{
  "nbformat": 4,
  "nbformat_minor": 0,
  "metadata": {
    "colab": {
      "provenance": []
    },
    "kernelspec": {
      "name": "python3",
      "display_name": "Python 3"
    },
    "language_info": {
      "name": "python"
    }
  },
  "cells": [
    {
      "cell_type": "markdown",
      "source": [
        "**Assignment 1 - Control Structures**\n",
        "\n",
        "\n",
        "**Date: 25/04/2025**\n",
        "\n"
      ],
      "metadata": {
        "id": "G3mRJhsnFJdh"
      }
    },
    {
      "cell_type": "markdown",
      "source": [
        "    Question 1"
      ],
      "metadata": {
        "id": "QqgOS0zCQvLf"
      }
    },
    {
      "cell_type": "code",
      "execution_count": 1,
      "metadata": {
        "colab": {
          "base_uri": "https://localhost:8080/"
        },
        "id": "jk23ET80FBVb",
        "outputId": "0ef5209e-8708-46e4-91f8-8ab649abad47"
      },
      "outputs": [
        {
          "output_type": "stream",
          "name": "stdout",
          "text": [
            "Welcome to Assignment-1\n"
          ]
        }
      ],
      "source": [
        "print('Welcome to Assignment-1')"
      ]
    },
    {
      "cell_type": "markdown",
      "source": [
        "    Question 2"
      ],
      "metadata": {
        "id": "LMguklgwQ4O6"
      }
    },
    {
      "cell_type": "code",
      "source": [
        "Num1 = 10\n",
        "Num2 = 30\n",
        "Add = Num1 + Num2\n",
        "print('Num1 =', Num1)\n",
        "print('Num2 =', Num2)\n",
        "print('Add =', Add)"
      ],
      "metadata": {
        "colab": {
          "base_uri": "https://localhost:8080/"
        },
        "id": "JxXwHKPJFkYF",
        "outputId": "0ec91488-e138-401d-d72a-9da91645ded7"
      },
      "execution_count": 2,
      "outputs": [
        {
          "output_type": "stream",
          "name": "stdout",
          "text": [
            "Num1 = 10\n",
            "Num2 = 30\n",
            "Add = 40\n"
          ]
        }
      ]
    },
    {
      "cell_type": "markdown",
      "source": [
        "    Question 3"
      ],
      "metadata": {
        "id": "KSKD18lGQ7p6"
      }
    },
    {
      "cell_type": "code",
      "source": [
        "# Body Mass Index\n",
        "\n",
        "bmi = int(input(\"Enter the BMI Index \"))\n",
        "\n",
        "if (bmi < 18.5):\n",
        "  print(\"Underweight\")\n",
        "elif (bmi >= 18.5 and bmi <= 24.9):\n",
        "  print(\"Normal\")\n",
        "elif (bmi >= 25 and bmi <= 29.9):\n",
        "  print(\"Overweight\")\n",
        "elif (bmi >= 30 and bmi <= 35.9):\n",
        "  print(\"Obese\")\n",
        "elif (bmi >= 36 and bmi <= 39.9):\n",
        "  print(\"Extremely Obese\")\n",
        "else:\n",
        "  print(\"Morbidly Obese\")"
      ],
      "metadata": {
        "colab": {
          "base_uri": "https://localhost:8080/"
        },
        "id": "eJ35to19Gl6g",
        "outputId": "d0422161-caec-4bdc-d58e-b91cf9d6f7ec"
      },
      "execution_count": 3,
      "outputs": [
        {
          "output_type": "stream",
          "name": "stdout",
          "text": [
            "Enter the BMI Index 34\n",
            "Obese\n"
          ]
        }
      ]
    }
  ]
}